{
 "cells": [
  {
   "cell_type": "markdown",
   "metadata": {},
   "source": [
    "# Introduction\n",
    "\n",
    "The mlvis library contains a suite a visualization components. This library is still under active development. The current version consists of several prebuilt visualization components:\n",
    "\n",
    "- [Stacked Calendar](stacked-calendar.ipynb)\n",
    "- [Graph Builder](graph-builder.ipynb)\n",
    "- [Feature List View](feature-list-view.ipynb)\n",
    "- [Manifold](manifold.ipynb)\n",
    "\n",
    "## Installation\n",
    "\n",
    "```\n",
    "pip install mlvis\n",
    "```\n",
    "\n",
    "After that do\n",
    "\n",
    "```\n",
    "jupyter nbextension install --py --symlink --sys-prefix mlvis\n",
    "jupyter nbextension enable --py --sys-prefix mlvis\n",
    "```"
   ]
  }
 ],
 "metadata": {
  "kernelspec": {
   "display_name": "Python 3",
   "language": "python",
   "name": "python3"
  },
  "language_info": {
   "codemirror_mode": {
    "name": "ipython",
    "version": 3
   },
   "file_extension": ".py",
   "mimetype": "text/x-python",
   "name": "python",
   "nbconvert_exporter": "python",
   "pygments_lexer": "ipython3",
   "version": "3.7.0"
  }
 },
 "nbformat": 4,
 "nbformat_minor": 2
}
